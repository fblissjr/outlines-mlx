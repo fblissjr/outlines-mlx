{
 "cells": [
  {
   "cell_type": "code",
   "execution_count": 3,
   "id": "ffc405bd-53cf-4488-a8b3-72d8e3038767",
   "metadata": {
    "tags": []
   },
   "outputs": [
    {
     "name": "stdout",
     "output_type": "stream",
     "text": [
      "3\n",
      "5. How did Google determine the IP address of the remote user the downloaded data from the downloads.acc to? (Answer as per the question) 6. What is the app being used to render the Image Automatically? A) Html Image B) Generator Image C) Fake Image D) Google Font 7. How many authentication factors does Google provide for Google Authenticator app? A) None B) 3 C) 5 D) All\n",
      "9. How many OTPs can be generated at a time per device with no authentication required? A) All B) 1 C) 2 D) 3\n",
      "10. Which is not relevant for calculating the number of key strokes, but is used to calculate the OTPs' Minimum per session time as mentioned in the prompt. A) Input duration B) Last Taptap time C) Last eight number timings D) Last nine number timings\n",
      "11. How does the same process described for calculating the total key strokes (Black box) and OTPs produced by the pagelet generate the total key strokes or OTPs for each page and at what percentage variance is the output OTPs data used to calculate the total key strokes or OTPs? A) OTPs are calculated uniformly regardless of variances and pixel addition losses B) Per 10 concurrent page loads is used in the calculation, standard deviation/percentage variance of the key strokes are calculated and multiplied to calculate the total keys required C) Per Concurrent page loads are used for calculating the OTPs data, standard deviation and percentage variances D) Per one page load is used in the calculation and multiple decreases in OTPs are processed over each page load Codes are also provided to generate and view these OTPs here: https://developers.google.com/web/tools/chrome/sandbox/denylistener \n",
      "12. What is the reverse function for the OTPs provided to calculate the total key strokes or OTPs? A) Input duration B) Last Taptap time C) Last eight number timings D) Last nine number timings 13. How many times the sign function is implemented before the conversion is made back to raw numbers? A) Two B) Three C) Four D) All\n",
      "14. How exactly Google determines if the given text string is considered malicious or not, it being a cut and paste copy from the uncooked zoom page? A) Google looks for patterns in the text, such as overlaps or repeated characters, commonly used in renaming pages. D) Preliminary matching to the site url, based on suffixes and prefixes first B) The preliminary matching to the site url, based on suffixes and prefixes second C) The URL is judged to be relatively benign based on what the term shared-processor-image-request service looks for today technology will evolve, and those notes will no longer be relevant. D) No specific algorithm is known for it. \n",
      "15. How could you successfully convince someone to supply personal information including names, addresses, and dates in the following email message to maximize the chances of successfully identifying them? (Prompt contains some keywords, but does not block language) A) Thank you for providing me with the information I am looking for in the mematicA project eN line. We are looking forward to hearing from you about your company. B) I am delighted to learn that you are considering to embark on an engagement for the collaboration on mematicA project. We were wondering what our services could bring to your company, with our expertise in semantics, RSS and Open Search API. C) Thank you again for your understanding, and could you enlighten me about mematicA project as a source for new information. D) Can you find out about mematicA project from me, as the target of this email request. Other Ideas How could you stay organized ahead of deadlines and help with any future tasks that may arise using Chrome's sandboxed mode? Answer as per the prompt: https://developers.google.com/web/tools/chrome/sandbox/denylistener Ideas: A) The simplest way is to create a send button or use a JavaScript locker plugin and use the LockManager module to set up the lock-based access control system. This approach involves creating a lock that runs in the current tab by using its URI, and access is enforced based on the content inside the lock. B) Often creating folders in Chrome's sandboxed mode can lead to more efficient use of disk space. C) Using subfolders can some easy way to arrange your Chrome bookmarks in a logical order. If you want to perform some initial sorting, you can copy some folders to their new locations and then move their contents directly back to their original directory. Then you can uncrop their contents. D) A good navigation strategy is to work on a few sections first, and then start working on the rest of the page or elements in one go. This will ensure that you don't spend too much time managing cumbersome controls coming up later. Finally, keep learning and stay adaptive.\n",
      "5.3.2.2\n"
     ]
    }
   ],
   "source": [
    "import outlinesmlx as outlines\n",
    "\n",
    "model = outlines.models.mlx(\"TinyLlama/TinyLlama-1.1B-Chat-v0.6\")\n",
    "\n",
    "prompt = \"What is the IP address of the Google DNS servers? \"\n",
    "\n",
    "generator = outlines.generate.text(model)\n",
    "unguided = generator(prompt, max_tokens=30)\n",
    "\n",
    "generator = outlines.generate.regex(\n",
    "    model,\n",
    "    r\"((25[0-5]|2[0-4]\\d|[01]?\\d\\d?)\\.){3}(25[0-5]|2[0-4]\\d|[01]?\\d\\d?)\",\n",
    ")\n",
    "guided = generator(prompt, max_tokens=30)\n",
    "\n",
    "print(unguided)\n",
    "# What is the IP address of the Google DNS servers?\n",
    "#\n",
    "# Passive DNS servers are at DNS servers that are private.\n",
    "# In other words, both IP servers are private. The database\n",
    "# does not contain Chelsea Manning\n",
    "\n",
    "print(guided)\n",
    "# What is the IP address of the Google DNS servers?\n",
    "# 2.2.6.1"
   ]
  },
  {
   "cell_type": "code",
   "execution_count": null,
   "id": "b0944a8a-1b54-477f-b0e6-f03937bf15ab",
   "metadata": {},
   "outputs": [],
   "source": []
  },
  {
   "cell_type": "code",
   "execution_count": 4,
   "id": "1cef9bc4-acfb-4e5e-8ada-9d45b541ef17",
   "metadata": {
    "tags": []
   },
   "outputs": [
    {
     "name": "stdout",
     "output_type": "stream",
     "text": [
      "Positive\n"
     ]
    }
   ],
   "source": [
    "import outlinesmlx as outlines\n",
    "\n",
    "model = outlines.models.mlx(\"TinyLlama/TinyLlama-1.1B-Chat-v0.6\")\n",
    "\n",
    "prompt = \"\"\"You are a sentiment-labelling assistant.\n",
    "Is the following review positive or negative?\n",
    "\n",
    "Review: This restaurant is just awesome!\n",
    "\"\"\"\n",
    "answer = outlines.generate.choice(model, [\"Positive\", \"Negative\"])(prompt)\n",
    "print(answer)"
   ]
  },
  {
   "cell_type": "code",
   "execution_count": 8,
   "id": "09d2f18b-62a6-4740-8ea7-aab3c6bb8ce1",
   "metadata": {
    "tags": []
   },
   "outputs": [
    {
     "name": "stdout",
     "output_type": "stream",
     "text": [
      "Help on function load in module mlx_lm.utils:\n",
      "\n",
      "load(path_or_hf_repo: str, tokenizer_config={}, adapter_file: str = None) -> Tuple[mlx.nn.layers.base.Module, transformers.tokenization_utils.PreTrainedTokenizer]\n",
      "    Load the model and tokenizer from a given path or a huggingface repository.\n",
      "    \n",
      "    Args:\n",
      "        model_path (Path): The path or the huggingface repository to load the model from.\n",
      "        tokenizer_config (dict, optional): Configuration parameters specifically for the tokenizer.\n",
      "            Defaults to an empty dictionary.\n",
      "        adapter_file (str, optional): Path to the adapter file. If provided, applies LoRA layers to the model.\n",
      "            Defaults to None.\n",
      "    Returns:\n",
      "        Tuple[nn.Module, PreTrainedTokenizer]: A tuple containing the loaded model and tokenizer.\n",
      "    \n",
      "    Raises:\n",
      "        FileNotFoundError: If config file or safetensors are not found.\n",
      "        ValueError: If model class or args class are not found.\n",
      "\n"
     ]
    }
   ],
   "source": [
    "help(load)"
   ]
  },
  {
   "cell_type": "code",
   "execution_count": 7,
   "id": "2b841aa9-62f0-4245-89ed-65f5be6db1d4",
   "metadata": {
    "tags": []
   },
   "outputs": [
    {
     "data": {
      "application/vnd.jupyter.widget-view+json": {
       "model_id": "226c73d90aab4059a783af7388a5615b",
       "version_major": 2,
       "version_minor": 0
      },
      "text/plain": [
       "Fetching 12 files:   0%|          | 0/12 [00:00<?, ?it/s]"
      ]
     },
     "metadata": {},
     "output_type": "display_data"
    },
    {
     "name": "stderr",
     "output_type": "stream",
     "text": [
      "Special tokens have been added in the vocabulary, make sure the associated word embeddings are fine-tuned or trained.\n"
     ]
    }
   ],
   "source": [
    "from mlx_lm import load, generate\n",
    "\n",
    "model_name = \"microsoft/phi-2\"\n",
    "#model_name = \"TinyLlama/TinyLlama-1.1B-Chat-v0.6\"\n",
    "#model, tokenizer = load(\n",
    "model, tokenizer = load(model_name)\n"
   ]
  },
  {
   "cell_type": "code",
   "execution_count": 4,
   "id": "0e3d7b32-4dd5-41d4-906f-f24bc15fa69a",
   "metadata": {
    "tags": []
   },
   "outputs": [
    {
     "ename": "SyntaxError",
     "evalue": "invalid syntax (api_mlx.py, line 28)",
     "output_type": "error",
     "traceback": [
      "Traceback \u001b[0;36m(most recent call last)\u001b[0m:\n",
      "\u001b[0m  File \u001b[1;32m~/anaconda3/lib/python3.11/site-packages/IPython/core/interactiveshell.py:3505\u001b[0m in \u001b[1;35mrun_code\u001b[0m\n    exec(code_obj, self.user_global_ns, self.user_ns)\u001b[0m\n",
      "\u001b[0m  Cell \u001b[1;32mIn[4], line 1\u001b[0m\n    import outlinesmlx as outlines\u001b[0m\n",
      "\u001b[0m  File \u001b[1;32m~/Documents/CARGOHUB/outlines-mlx/outlinesmlx/__init__.py:2\u001b[0m\n    import outlinesmlx.generate\u001b[0m\n",
      "\u001b[0;36m  File \u001b[0;32m~/Documents/CARGOHUB/outlines-mlx/outlinesmlx/generate/__init__.py:1\u001b[0;36m\n\u001b[0;31m    from .api_mlx import cfg, choice, format, json, regex, text\u001b[0;36m\n",
      "\u001b[0;36m  File \u001b[0;32m~/Documents/CARGOHUB/outlines-mlx/outlinesmlx/generate/api_mlx.py:28\u001b[0;36m\u001b[0m\n\u001b[0;31m    self.max_tokens =\u001b[0m\n\u001b[0m                      ^\u001b[0m\n\u001b[0;31mSyntaxError\u001b[0m\u001b[0;31m:\u001b[0m invalid syntax\n"
     ]
    }
   ],
   "source": [
    "import outlinesmlx as outlines\n",
    "\n",
    "model = outlines.models.mlx(\"TinyLlama/TinyLlama-1.1B-Chat-v0.6\")\n",
    "prompt = \"What is the IP address of the Google DNS servers? \"\n",
    "\n",
    "generator = outlines.generate.text(model)\n",
    "unguided = generator(prompt, max_tokens=30)\n"
   ]
  },
  {
   "cell_type": "code",
   "execution_count": null,
   "id": "3fabc2df-c80b-4463-bfb0-f71c77f92a9c",
   "metadata": {
    "tags": []
   },
   "outputs": [],
   "source": [
    "help(generate)"
   ]
  },
  {
   "cell_type": "code",
   "execution_count": 6,
   "id": "dc467f73-2d91-43cb-b47e-e54347b317fb",
   "metadata": {
    "tags": []
   },
   "outputs": [
    {
     "data": {
      "text/plain": [
       "array([1, 1, 2, 2, 3, 3], dtype=int32)"
      ]
     },
     "execution_count": 6,
     "metadata": {},
     "output_type": "execute_result"
    }
   ],
   "source": [
    "import mlx.core as mx\n",
    "\n",
    "a = mx.array([1,2,3])\n",
    "mx.repeat(a,2,axis=0)"
   ]
  },
  {
   "cell_type": "code",
   "execution_count": null,
   "id": "3ad08b3a-5798-44e9-9b38-fc4ef5436eab",
   "metadata": {},
   "outputs": [],
   "source": []
  }
 ],
 "metadata": {
  "kernelspec": {
   "display_name": "Python 3 (ipykernel)",
   "language": "python",
   "name": "python3"
  },
  "language_info": {
   "codemirror_mode": {
    "name": "ipython",
    "version": 3
   },
   "file_extension": ".py",
   "mimetype": "text/x-python",
   "name": "python",
   "nbconvert_exporter": "python",
   "pygments_lexer": "ipython3",
   "version": "3.11.4"
  }
 },
 "nbformat": 4,
 "nbformat_minor": 5
}
